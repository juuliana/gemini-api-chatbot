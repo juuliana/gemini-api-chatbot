{
  "nbformat": 4,
  "nbformat_minor": 0,
  "metadata": {
    "colab": {
      "provenance": [],
      "authorship_tag": "ABX9TyMRBMWivJty7ZMq2xZwPp8k",
      "include_colab_link": true
    },
    "kernelspec": {
      "name": "python3",
      "display_name": "Python 3"
    },
    "language_info": {
      "name": "python"
    }
  },
  "cells": [
    {
      "cell_type": "markdown",
      "metadata": {
        "id": "view-in-github",
        "colab_type": "text"
      },
      "source": [
        "<a href=\"https://colab.research.google.com/github/juuliana/google-ai-chat/blob/main/chat.ipynb\" target=\"_parent\"><img src=\"https://colab.research.google.com/assets/colab-badge.svg\" alt=\"Open In Colab\"/></a>"
      ]
    },
    {
      "cell_type": "markdown",
      "source": [
        "Instalando o SDK do Google"
      ],
      "metadata": {
        "id": "YHkWzAQD0dOA"
      }
    },
    {
      "cell_type": "code",
      "execution_count": 1,
      "metadata": {
        "id": "sVnjPpSbyXPC"
      },
      "outputs": [],
      "source": [
        "!pip install -q -U google-generativeai"
      ]
    },
    {
      "cell_type": "code",
      "source": [
        "import google.generativeai as genai\n",
        "from google.colab import userdata\n",
        "\n",
        "#Substitua a SECRET_KEY pela sua chave do Google AI Studio\n",
        "SECRET_KEY = userdata.get('SECRET_KEY')\n",
        "genai.configure(api_key=SECRET_KEY)"
      ],
      "metadata": {
        "id": "BYIpGNm8ya93"
      },
      "execution_count": 24,
      "outputs": []
    },
    {
      "cell_type": "markdown",
      "source": [
        "Listar os modelos disponíveis"
      ],
      "metadata": {
        "id": "ls4qz7eb0prG"
      }
    },
    {
      "cell_type": "code",
      "source": [
        "for m in genai.list_models():\n",
        "  if 'generateContent' in m.supported_generation_methods:\n",
        "    print(m.name)"
      ],
      "metadata": {
        "colab": {
          "base_uri": "https://localhost:8080/",
          "height": 139
        },
        "id": "tIQgqiedzwI6",
        "outputId": "39a30844-5efb-4e4e-83af-b395f214a51c"
      },
      "execution_count": 5,
      "outputs": [
        {
          "output_type": "stream",
          "name": "stdout",
          "text": [
            "models/gemini-1.0-pro\n",
            "models/gemini-1.0-pro-001\n",
            "models/gemini-1.0-pro-latest\n",
            "models/gemini-1.0-pro-vision-latest\n",
            "models/gemini-1.5-pro-latest\n",
            "models/gemini-pro\n",
            "models/gemini-pro-vision\n"
          ]
        }
      ]
    },
    {
      "cell_type": "markdown",
      "source": [
        "Configurar e criar o modelo"
      ],
      "metadata": {
        "id": "K-jDyeP0Arvn"
      }
    },
    {
      "cell_type": "code",
      "source": [
        "generation_config = {\n",
        "    'candidate_count': 1,\n",
        "    'temperature': 0.5\n",
        "}"
      ],
      "metadata": {
        "id": "_j55DJnn134H"
      },
      "execution_count": 6,
      "outputs": []
    },
    {
      "cell_type": "code",
      "source": [
        "safety_settings = {\n",
        "    'HARASSMENT': 'BLOCK_NONE',\n",
        "    'HATE':'BLOCK_NONE',\n",
        "    'SEXUAL': 'BLOCK_NONE',\n",
        "    'DANGEROUS': 'BLOCK_NONE',\n",
        "}"
      ],
      "metadata": {
        "id": "QxU2VhDG2bf4"
      },
      "execution_count": 7,
      "outputs": []
    },
    {
      "cell_type": "code",
      "source": [
        "model = genai.GenerativeModel(model_name='gemini-1.0-pro', generation_config=generation_config, safety_settings=safety_settings)"
      ],
      "metadata": {
        "id": "4dA_HC7D3Dw8"
      },
      "execution_count": 9,
      "outputs": []
    },
    {
      "cell_type": "markdown",
      "source": [
        "Criando um chat"
      ],
      "metadata": {
        "id": "X3Ny4gPdBPMU"
      }
    },
    {
      "cell_type": "code",
      "source": [
        "chat = model.start_chat(history=[])"
      ],
      "metadata": {
        "id": "BTBtOvRP4C9x"
      },
      "execution_count": 11,
      "outputs": []
    },
    {
      "cell_type": "code",
      "source": [
        "prompt = input('Digite aqui a sua pergunta: ')\n",
        "\n",
        "while prompt != \"Encerrar chat\":\n",
        "  response = chat.send_message(prompt)\n",
        "  print(\"Resposta: \", response.text, \"\\n\")\n",
        "  prompt = input('Digite aqui a sua pergunta: ')"
      ],
      "metadata": {
        "colab": {
          "base_uri": "https://localhost:8080/",
          "height": 503
        },
        "id": "fqYp_Uj_4SfJ",
        "outputId": "7d463652-c567-4aad-df18-6bdcb2f0e799"
      },
      "execution_count": 25,
      "outputs": [
        {
          "name": "stdout",
          "output_type": "stream",
          "text": [
            "Digite aqui sua pergunta: teste\n",
            "Resposta:  teste \n",
            "\n",
            "Digite aqui sua pergunta: o que é teste?\n",
            "Resposta:  \"Teste\" é um termo genérico que se refere a qualquer procedimento ou avaliação usada para medir ou avaliar habilidades, conhecimentos ou atributos específicos. Os testes podem ser usados em vários contextos, incluindo:\n",
            "\n",
            "* **Educação:** Avaliar o conhecimento e as habilidades dos alunos em uma determinada matéria ou assunto.\n",
            "* **Emprego:** Avaliar as qualificações e habilidades dos candidatos a emprego.\n",
            "* **Saúde:** Diagnosticar doenças ou avaliar a eficácia de tratamentos.\n",
            "* **Pesquisa:** Coletar dados para estudos científicos ou pesquisas de mercado.\n",
            "\n",
            "Existem diferentes tipos de testes, incluindo:\n",
            "\n",
            "* **Testes escritos:** Perguntas respondidas por escrito, como provas e questionários.\n",
            "* **Testes orais:** Perguntas respondidas verbalmente, como entrevistas e apresentações.\n",
            "* **Testes práticos:** Avaliações de habilidades ou conhecimentos por meio de tarefas práticas, como testes de direção ou exames médicos.\n",
            "* **Testes padronizados:** Testes administrados e pontuados de forma consistente, permitindo comparações entre indivíduos ou grupos.\n",
            "\n",
            "Os testes podem ser úteis para:\n",
            "\n",
            "* Avaliar o progresso e identificar áreas de melhoria.\n",
            "* Tomar decisões informadas, como admissão em escolas ou contratação de funcionários.\n",
            "* Diagnosticar problemas e desenvolver planos de tratamento.\n",
            "* Conduzir pesquisas e coletar dados.\n",
            "\n",
            "No entanto, é importante observar que os testes têm limitações e não devem ser usados como a única medida de habilidades ou conhecimentos. \n",
            "\n",
            "Digite aqui sua pergunta: Encerrar chat\n"
          ]
        }
      ]
    },
    {
      "cell_type": "markdown",
      "source": [
        "Recuperando o histórico do chat"
      ],
      "metadata": {
        "id": "pxhwUvwgBiqd"
      }
    },
    {
      "cell_type": "code",
      "source": [
        "chat.history"
      ],
      "metadata": {
        "colab": {
          "base_uri": "https://localhost:8080/"
        },
        "id": "vaC3ZUES6xJ4",
        "outputId": "2767afa3-289f-477a-a9f6-e38a0a3ad67f"
      },
      "execution_count": 26,
      "outputs": [
        {
          "output_type": "execute_result",
          "data": {
            "text/plain": [
              "[parts {\n",
              "   text: \"Qual \\303\\251 a capital do Brasil?\"\n",
              " }\n",
              " role: \"user\",\n",
              " parts {\n",
              "   text: \"Bras\\303\\255lia\"\n",
              " }\n",
              " role: \"model\",\n",
              " parts {\n",
              "   text: \"Qual \\303\\251 a comida t\\303\\255pica desse pa\\303\\255s?\"\n",
              " }\n",
              " role: \"user\",\n",
              " parts {\n",
              "   text: \"Feijoada\"\n",
              " }\n",
              " role: \"model\",\n",
              " parts {\n",
              "   text: \"teste\"\n",
              " }\n",
              " role: \"user\",\n",
              " parts {\n",
              "   text: \"teste\"\n",
              " }\n",
              " role: \"model\",\n",
              " parts {\n",
              "   text: \"o que \\303\\251 teste?\"\n",
              " }\n",
              " role: \"user\",\n",
              " parts {\n",
              "   text: \"\\\"Teste\\\" \\303\\251 um termo gen\\303\\251rico que se refere a qualquer procedimento ou avalia\\303\\247\\303\\243o usada para medir ou avaliar habilidades, conhecimentos ou atributos espec\\303\\255ficos. Os testes podem ser usados em v\\303\\241rios contextos, incluindo:\\n\\n* **Educa\\303\\247\\303\\243o:** Avaliar o conhecimento e as habilidades dos alunos em uma determinada mat\\303\\251ria ou assunto.\\n* **Emprego:** Avaliar as qualifica\\303\\247\\303\\265es e habilidades dos candidatos a emprego.\\n* **Sa\\303\\272de:** Diagnosticar doen\\303\\247as ou avaliar a efic\\303\\241cia de tratamentos.\\n* **Pesquisa:** Coletar dados para estudos cient\\303\\255ficos ou pesquisas de mercado.\\n\\nExistem diferentes tipos de testes, incluindo:\\n\\n* **Testes escritos:** Perguntas respondidas por escrito, como provas e question\\303\\241rios.\\n* **Testes orais:** Perguntas respondidas verbalmente, como entrevistas e apresenta\\303\\247\\303\\265es.\\n* **Testes pr\\303\\241ticos:** Avalia\\303\\247\\303\\265es de habilidades ou conhecimentos por meio de tarefas pr\\303\\241ticas, como testes de dire\\303\\247\\303\\243o ou exames m\\303\\251dicos.\\n* **Testes padronizados:** Testes administrados e pontuados de forma consistente, permitindo compara\\303\\247\\303\\265es entre indiv\\303\\255duos ou grupos.\\n\\nOs testes podem ser \\303\\272teis para:\\n\\n* Avaliar o progresso e identificar \\303\\241reas de melhoria.\\n* Tomar decis\\303\\265es informadas, como admiss\\303\\243o em escolas ou contrata\\303\\247\\303\\243o de funcion\\303\\241rios.\\n* Diagnosticar problemas e desenvolver planos de tratamento.\\n* Conduzir pesquisas e coletar dados.\\n\\nNo entanto, \\303\\251 importante observar que os testes t\\303\\252m limita\\303\\247\\303\\265es e n\\303\\243o devem ser usados como a \\303\\272nica medida de habilidades ou conhecimentos.\"\n",
              " }\n",
              " role: \"model\"]"
            ]
          },
          "metadata": {},
          "execution_count": 26
        }
      ]
    },
    {
      "cell_type": "markdown",
      "source": [
        "Melhorando a visualização do histórico do chat"
      ],
      "metadata": {
        "id": "Z5tlyWCVBo9P"
      }
    },
    {
      "cell_type": "code",
      "source": [
        "import textwrap\n",
        "from IPython.display import display\n",
        "from IPython.display import Markdown\n",
        "\n",
        "def to_markdown(text):\n",
        "  text = text.replace('*', ' *')\n",
        "  return Markdown(textwrap.indent(text, '>', predicate=lambda _: True))\n",
        "\n",
        "roles = {\n",
        "    \"user\": \"Usuário\",\n",
        "    \"model\": \"Robô\"\n",
        "}\n",
        "\n",
        "for message in chat.history:\n",
        "  display(to_markdown(f'{roles[message.role]}: {message.parts[0].text}'))\n",
        "  print('----------------------------------------------------------------')"
      ],
      "metadata": {
        "colab": {
          "base_uri": "https://localhost:8080/",
          "height": 886
        },
        "id": "F5-CxbKU6H0v",
        "outputId": "30ef62b7-74ba-47c5-a12b-566212e82ba2"
      },
      "execution_count": 31,
      "outputs": [
        {
          "output_type": "display_data",
          "data": {
            "text/plain": [
              "<IPython.core.display.Markdown object>"
            ],
            "text/markdown": ">Usuário: Qual é a capital do Brasil?"
          },
          "metadata": {}
        },
        {
          "output_type": "stream",
          "name": "stdout",
          "text": [
            "----------------------------------------------------------------\n"
          ]
        },
        {
          "output_type": "display_data",
          "data": {
            "text/plain": [
              "<IPython.core.display.Markdown object>"
            ],
            "text/markdown": ">Robô: Brasília"
          },
          "metadata": {}
        },
        {
          "output_type": "stream",
          "name": "stdout",
          "text": [
            "----------------------------------------------------------------\n"
          ]
        },
        {
          "output_type": "display_data",
          "data": {
            "text/plain": [
              "<IPython.core.display.Markdown object>"
            ],
            "text/markdown": ">Usuário: Qual é a comida típica desse país?"
          },
          "metadata": {}
        },
        {
          "output_type": "stream",
          "name": "stdout",
          "text": [
            "----------------------------------------------------------------\n"
          ]
        },
        {
          "output_type": "display_data",
          "data": {
            "text/plain": [
              "<IPython.core.display.Markdown object>"
            ],
            "text/markdown": ">Robô: Feijoada"
          },
          "metadata": {}
        },
        {
          "output_type": "stream",
          "name": "stdout",
          "text": [
            "----------------------------------------------------------------\n"
          ]
        },
        {
          "output_type": "display_data",
          "data": {
            "text/plain": [
              "<IPython.core.display.Markdown object>"
            ],
            "text/markdown": ">Usuário: teste"
          },
          "metadata": {}
        },
        {
          "output_type": "stream",
          "name": "stdout",
          "text": [
            "----------------------------------------------------------------\n"
          ]
        },
        {
          "output_type": "display_data",
          "data": {
            "text/plain": [
              "<IPython.core.display.Markdown object>"
            ],
            "text/markdown": ">Robô: teste"
          },
          "metadata": {}
        },
        {
          "output_type": "stream",
          "name": "stdout",
          "text": [
            "----------------------------------------------------------------\n"
          ]
        },
        {
          "output_type": "display_data",
          "data": {
            "text/plain": [
              "<IPython.core.display.Markdown object>"
            ],
            "text/markdown": ">Usuário: o que é teste?"
          },
          "metadata": {}
        },
        {
          "output_type": "stream",
          "name": "stdout",
          "text": [
            "----------------------------------------------------------------\n"
          ]
        },
        {
          "output_type": "display_data",
          "data": {
            "text/plain": [
              "<IPython.core.display.Markdown object>"
            ],
            "text/markdown": ">Robô: \"Teste\" é um termo genérico que se refere a qualquer procedimento ou avaliação usada para medir ou avaliar habilidades, conhecimentos ou atributos específicos. Os testes podem ser usados em vários contextos, incluindo:\n>\n> *  * *Educação: * * Avaliar o conhecimento e as habilidades dos alunos em uma determinada matéria ou assunto.\n> *  * *Emprego: * * Avaliar as qualificações e habilidades dos candidatos a emprego.\n> *  * *Saúde: * * Diagnosticar doenças ou avaliar a eficácia de tratamentos.\n> *  * *Pesquisa: * * Coletar dados para estudos científicos ou pesquisas de mercado.\n>\n>Existem diferentes tipos de testes, incluindo:\n>\n> *  * *Testes escritos: * * Perguntas respondidas por escrito, como provas e questionários.\n> *  * *Testes orais: * * Perguntas respondidas verbalmente, como entrevistas e apresentações.\n> *  * *Testes práticos: * * Avaliações de habilidades ou conhecimentos por meio de tarefas práticas, como testes de direção ou exames médicos.\n> *  * *Testes padronizados: * * Testes administrados e pontuados de forma consistente, permitindo comparações entre indivíduos ou grupos.\n>\n>Os testes podem ser úteis para:\n>\n> * Avaliar o progresso e identificar áreas de melhoria.\n> * Tomar decisões informadas, como admissão em escolas ou contratação de funcionários.\n> * Diagnosticar problemas e desenvolver planos de tratamento.\n> * Conduzir pesquisas e coletar dados.\n>\n>No entanto, é importante observar que os testes têm limitações e não devem ser usados como a única medida de habilidades ou conhecimentos."
          },
          "metadata": {}
        },
        {
          "output_type": "stream",
          "name": "stdout",
          "text": [
            "----------------------------------------------------------------\n"
          ]
        }
      ]
    }
  ]
}